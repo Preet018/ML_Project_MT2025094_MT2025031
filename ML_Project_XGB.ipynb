{
  "nbformat": 4,
  "nbformat_minor": 0,
  "metadata": {
    "colab": {
      "provenance": [],
      "collapsed_sections": [
        "OOIVBppxUst7"
      ]
    },
    "kernelspec": {
      "name": "python3",
      "display_name": "Python 3"
    },
    "language_info": {
      "name": "python"
    }
  },
  "cells": [
    {
      "cell_type": "code",
      "source": [
        "from google.colab import drive\n",
        "drive.mount('/content/drive')"
      ],
      "metadata": {
        "id": "YqLXc0aeZzud"
      },
      "execution_count": null,
      "outputs": []
    },
    {
      "cell_type": "code",
      "execution_count": null,
      "metadata": {
        "id": "ldptNLvXZh6M"
      },
      "outputs": [],
      "source": [
        "import seaborn as sns\n",
        "import numpy as np\n",
        "import pandas as pd\n",
        "import random\n",
        "\n",
        "from sklearn.model_selection import train_test_split\n",
        "from sklearn.compose import ColumnTransformer\n",
        "from sklearn.preprocessing import OneHotEncoder, LabelEncoder\n",
        "from sklearn.preprocessing import StandardScaler\n",
        "from sklearn.datasets import make_classification\n",
        "from sklearn.model_selection import RandomizedSearchCV\n",
        "from sklearn.tree import DecisionTreeClassifier\n",
        "from sklearn.tree import plot_tree\n",
        "from xgboost import XGBClassifier\n",
        "from sklearn.metrics import accuracy_score\n",
        "\n",
        "df = pd.read_csv('/content/drive/MyDrive/Colab Notebooks/train.csv')\n",
        "df_pred = pd.read_csv('/content/drive/MyDrive/Colab Notebooks/test.csv')"
      ]
    },
    {
      "cell_type": "markdown",
      "source": [
        "# **1. Train and Test Dataset Split:**"
      ],
      "metadata": {
        "id": "OOIVBppxUst7"
      }
    },
    {
      "cell_type": "code",
      "source": [
        "df_train, df_test = train_test_split(\n",
        "    df,\n",
        "    test_size=0.3,       # 30% for test\n",
        "    random_state=42,\n",
        "    shuffle=True\n",
        ")"
      ],
      "metadata": {
        "id": "ZLvsh63YUklo"
      },
      "execution_count": null,
      "outputs": []
    },
    {
      "cell_type": "markdown",
      "source": [
        "# **2. Exploratory Data Analysis:**"
      ],
      "metadata": {
        "id": "jDlEcvZcH78s"
      }
    },
    {
      "cell_type": "markdown",
      "source": [
        "Target Distribution:"
      ],
      "metadata": {
        "id": "bQz83y2tU3Jv"
      }
    },
    {
      "cell_type": "code",
      "source": [
        "sns.countplot(x=df_train['WeightCategory'])"
      ],
      "metadata": {
        "id": "0y08HN9_G5V8"
      },
      "execution_count": null,
      "outputs": []
    },
    {
      "cell_type": "markdown",
      "source": [
        "Bivariate Analysis (WeightCategory with Numerical features):"
      ],
      "metadata": {
        "id": "446DaGumVBTn"
      }
    },
    {
      "cell_type": "code",
      "source": [
        "sns.boxplot(x=df_train['WeightCategory'], y=df_train['Age'])"
      ],
      "metadata": {
        "id": "LkOi2F_rG8sR"
      },
      "execution_count": null,
      "outputs": []
    },
    {
      "cell_type": "code",
      "source": [
        "sns.boxplot(x=df_train['WeightCategory'], y=df_train['Height'])"
      ],
      "metadata": {
        "id": "utQHzYtYG_CS"
      },
      "execution_count": null,
      "outputs": []
    },
    {
      "cell_type": "code",
      "source": [
        "sns.boxplot(x=df_train['WeightCategory'], y=df_train['Weight'])"
      ],
      "metadata": {
        "id": "zkGYdQnMHBg4"
      },
      "execution_count": null,
      "outputs": []
    },
    {
      "cell_type": "code",
      "source": [
        "sns.boxplot(x=df_train['WeightCategory'], y=df_train['FCVC'])"
      ],
      "metadata": {
        "id": "zj703tvtHPWV"
      },
      "execution_count": null,
      "outputs": []
    },
    {
      "cell_type": "code",
      "source": [
        "sns.boxplot(x=df_train['WeightCategory'], y=df_train['NCP'])"
      ],
      "metadata": {
        "id": "FvxwNdvqHRSx"
      },
      "execution_count": null,
      "outputs": []
    },
    {
      "cell_type": "code",
      "source": [
        "sns.boxplot(x=df_train['WeightCategory'], y=df_train['CH2O'])"
      ],
      "metadata": {
        "id": "nKvgalPeHTd3"
      },
      "execution_count": null,
      "outputs": []
    },
    {
      "cell_type": "code",
      "source": [
        "sns.boxplot(x=df_train['WeightCategory'], y=df_train['FAF'])"
      ],
      "metadata": {
        "id": "ky4RWwrwHV78"
      },
      "execution_count": null,
      "outputs": []
    },
    {
      "cell_type": "code",
      "source": [
        "sns.boxplot(x=df_train['WeightCategory'], y=df_train['TUE'])"
      ],
      "metadata": {
        "id": "YZFjitAuHYHQ"
      },
      "execution_count": null,
      "outputs": []
    },
    {
      "cell_type": "markdown",
      "source": [
        "Bivariate Analysis (WeightCategory with categorical features):"
      ],
      "metadata": {
        "id": "exW_qp7NH6S5"
      }
    },
    {
      "cell_type": "code",
      "source": [
        "sns.countplot(x=df_train['WeightCategory'], hue=df_train['Gender'])"
      ],
      "metadata": {
        "id": "fbOyjwJIH4sC"
      },
      "execution_count": null,
      "outputs": []
    },
    {
      "cell_type": "code",
      "source": [
        "sns.countplot(x=df_train['WeightCategory'], hue=df_train['family_history_with_overweight'])"
      ],
      "metadata": {
        "id": "_Go4MLU3H51B"
      },
      "execution_count": null,
      "outputs": []
    },
    {
      "cell_type": "code",
      "source": [
        "sns.countplot(x=df_train['WeightCategory'], hue=df_train['FAVC'])"
      ],
      "metadata": {
        "id": "E_TQstLJIFOk"
      },
      "execution_count": null,
      "outputs": []
    },
    {
      "cell_type": "code",
      "source": [
        "sns.countplot(x=df_train['WeightCategory'], hue=df_train['SMOKE'])"
      ],
      "metadata": {
        "id": "AXaAktX4IHwJ"
      },
      "execution_count": null,
      "outputs": []
    },
    {
      "cell_type": "code",
      "source": [
        "sns.countplot(x=df_train['WeightCategory'], hue=df_train['SCC'])"
      ],
      "metadata": {
        "id": "KIJg1kEDIJ0Y"
      },
      "execution_count": null,
      "outputs": []
    },
    {
      "cell_type": "code",
      "source": [
        "sns.countplot(x=df_train['WeightCategory'], hue=df_train['MTRANS'])"
      ],
      "metadata": {
        "id": "D2V64y5OIMJ0"
      },
      "execution_count": null,
      "outputs": []
    },
    {
      "cell_type": "markdown",
      "source": [
        "Heatmap for Numerical features:"
      ],
      "metadata": {
        "id": "I583NNZ5WBwZ"
      }
    },
    {
      "cell_type": "code",
      "source": [
        "numerical_df_train = df_train.select_dtypes(include=np.number, exclude=['bool'])\n",
        "\n",
        "categorical_df_train = df_train.select_dtypes(include=['object', 'category', 'bool'])\n",
        "categorical_df_train.drop(['CAEC', 'CALC'], axis=1, inplace=True)"
      ],
      "metadata": {
        "id": "qUIqHY8baMgJ"
      },
      "execution_count": null,
      "outputs": []
    },
    {
      "cell_type": "code",
      "source": [
        "numerical_df_train.sample(10)"
      ],
      "metadata": {
        "id": "EpoPn3tCIb-7"
      },
      "execution_count": null,
      "outputs": []
    },
    {
      "cell_type": "code",
      "source": [
        "categorical_df_train.sample(10)"
      ],
      "metadata": {
        "id": "9LN9NZEcIe-y"
      },
      "execution_count": null,
      "outputs": []
    },
    {
      "cell_type": "code",
      "source": [
        "import matplotlib.pyplot as plt\n",
        "\n",
        "num_df = numerical_df_train.select_dtypes(include=np.number)\n",
        "\n",
        "correlation_matrix = num_df.corr()\n",
        "\n",
        "plt.figure(figsize=(10, 7))\n",
        "\n",
        "sns.heatmap(\n",
        "    correlation_matrix,\n",
        "    annot=True,\n",
        "    cmap='viridis',\n",
        "    fmt=\".2f\",\n",
        "    linewidths=.5,\n",
        "    cbar=True,\n",
        "    square=True\n",
        ")\n",
        "\n",
        "plt.title('Heatmap of Pairwise Correlation Between Numerical Features', fontsize=16)\n",
        "\n",
        "plt.show()"
      ],
      "metadata": {
        "id": "AnGfCfUSJP6R"
      },
      "execution_count": null,
      "outputs": []
    },
    {
      "cell_type": "markdown",
      "source": [
        "# **3. Feature Engineering:**"
      ],
      "metadata": {
        "id": "TRTyFEgtH7X-"
      }
    },
    {
      "cell_type": "code",
      "source": [
        "df_train['BMI'] = df_train['Weight']/df_train['Height']\n",
        "df_test['BMI'] = df_test['Weight']/df_test['Height']\n",
        "df_pred['BMI'] = df_pred['Weight']/df_pred['Height']"
      ],
      "metadata": {
        "id": "twmkuk32HJ3y"
      },
      "execution_count": null,
      "outputs": []
    },
    {
      "cell_type": "code",
      "source": [
        "df_train['AI'] = df_train['FAF']-df_train['TUE']\n",
        "df_test['AI'] = df_test['FAF']-df_test['TUE']\n",
        "df_pred['AI'] = df_pred['FAF']-df_pred['TUE']"
      ],
      "metadata": {
        "id": "yZjcMapyZyAc"
      },
      "execution_count": null,
      "outputs": []
    },
    {
      "cell_type": "code",
      "source": [
        "df_train['FoodConsumption'] = df_train['FCVC']*df_train['NCP']\n",
        "df_test['FoodConsumption'] = df_test['FCVC']*df_test['NCP']\n",
        "df_pred['FoodConsumption'] = df_pred['FCVC']*df_pred['NCP']"
      ],
      "metadata": {
        "id": "rlf3NqfvaAXj"
      },
      "execution_count": null,
      "outputs": []
    },
    {
      "cell_type": "code",
      "source": [
        "df_train['snacking_alcohol_habit'] = df_train['CAEC'].astype(str)+'_'+df_train['CALC'].astype(str)\n",
        "df_test['snacking_alcohol_habit'] = df_test['CAEC'].astype(str)+'_'+df_test['CALC'].astype(str)\n",
        "df_pred['snacking_alcohol_habit'] = df_pred['CAEC'].astype(str)+'_'+df_pred['CALC'].astype(str)"
      ],
      "metadata": {
        "id": "SKbkLEwoaDXN"
      },
      "execution_count": null,
      "outputs": []
    },
    {
      "cell_type": "markdown",
      "source": [
        "# **4. Data Preprocessing:**"
      ],
      "metadata": {
        "id": "Q-ASeaUoIUZs"
      }
    },
    {
      "cell_type": "markdown",
      "source": [
        "Encoding and scaling features (for train dataset):"
      ],
      "metadata": {
        "id": "oriPG51QXHNT"
      }
    },
    {
      "cell_type": "code",
      "source": [
        "x_train = df_train.drop(['WeightCategory', 'id', 'CALC'], axis=1, errors='ignore')\n",
        "y_train = df_train['WeightCategory']\n",
        "categorical_features = x_train.select_dtypes(include=['object']).columns\n",
        "numerical_features = x_train.select_dtypes(include=['int64', 'float64']).columns\n",
        "transformer = ColumnTransformer(\n",
        "    transformers=[\n",
        "        # Transformer 1: Encodes all your text columns\n",
        "        ('tnf', OneHotEncoder(sparse_output=False, handle_unknown='ignore', drop='first'), categorical_features),\n",
        "\n",
        "        # Transformer 2: Scales all your original numerical columns\n",
        "        ('num', StandardScaler(), numerical_features)\n",
        "    ],\n",
        "    remainder='passthrough'\n",
        ")\n",
        "x_train_processed_array = transformer.fit_transform(x_train)\n",
        "x_train_column_names = transformer.get_feature_names_out()\n",
        "df_train_processed_x = pd.DataFrame(x_train_processed_array, columns=x_train_column_names)\n",
        "\n",
        "pd.set_option('display.max_columns', None)\n",
        "df_train_processed_x.sample(10)"
      ],
      "metadata": {
        "id": "WA3nXLXAaROA"
      },
      "execution_count": null,
      "outputs": []
    },
    {
      "cell_type": "markdown",
      "source": [
        "Label Encoding:"
      ],
      "metadata": {
        "id": "z5kV-XOmXapm"
      }
    },
    {
      "cell_type": "code",
      "source": [
        "le = LabelEncoder()\n",
        "y_train_processed = le.fit_transform(y_train)\n",
        "\n",
        "df_train_processed_y = pd.DataFrame(y_train_processed, columns=['WeightCategory'])"
      ],
      "metadata": {
        "id": "5XMGLLxdaRBF"
      },
      "execution_count": null,
      "outputs": []
    },
    {
      "cell_type": "markdown",
      "source": [
        "Encoding and scaling features (for test dataset):"
      ],
      "metadata": {
        "id": "3_pWtEg2XnGi"
      }
    },
    {
      "cell_type": "code",
      "source": [
        "x_test = df_test.drop(['WeightCategory', 'id', 'CALC'], axis=1, errors='ignore')\n",
        "y_test = df_test['WeightCategory']\n",
        "categorical_features = x_test.select_dtypes(include=['object']).columns\n",
        "numerical_features = x_test.select_dtypes(include=['int64', 'float64']).columns\n",
        "\n",
        "x_test_processed_array = transformer.transform(x_test)\n",
        "x_test_column_names = transformer.get_feature_names_out()\n",
        "df_test_processed_x = pd.DataFrame(x_test_processed_array, columns=x_test_column_names)\n",
        "\n",
        "pd.set_option('display.max_columns', None)\n",
        "df_test_processed_x.sample(10)"
      ],
      "metadata": {
        "id": "UymwsW0Biqff"
      },
      "execution_count": null,
      "outputs": []
    },
    {
      "cell_type": "code",
      "source": [
        "y_test_processed = le.transform(y_test)\n",
        "\n",
        "df_test_processed_y = pd.DataFrame(y_test_processed, columns=['WeightCategory'])"
      ],
      "metadata": {
        "id": "_rYzTx6rlGRz"
      },
      "execution_count": null,
      "outputs": []
    },
    {
      "cell_type": "code",
      "source": [
        "df_pred_x = df_pred.drop(['WeightCategory', 'id', 'CALC'], axis=1, errors='ignore')\n",
        "categorical_features = df_pred_x.select_dtypes(include=['object']).columns\n",
        "numerical_features = df_pred_x.select_dtypes(include=['int64', 'float64']).columns\n",
        "\n",
        "x_pred_processed_array = transformer.transform(df_pred_x)\n",
        "x_pred_column_names = transformer.get_feature_names_out()\n",
        "x_pred_processed_array.shape\n",
        "df_pred_processed_x = pd.DataFrame(x_pred_processed_array, columns=x_pred_column_names)\n"
      ],
      "metadata": {
        "id": "FUkVJ0I8aW26"
      },
      "execution_count": null,
      "outputs": []
    },
    {
      "cell_type": "code",
      "source": [
        "pd.set_option('display.max_columns', None)\n",
        "df_pred_processed_x.sample(10)"
      ],
      "metadata": {
        "id": "WMbZuiJaaa6S"
      },
      "execution_count": null,
      "outputs": []
    },
    {
      "cell_type": "markdown",
      "source": [
        "# **5. Hyperparameter Tuning:**"
      ],
      "metadata": {
        "id": "p1nR-2o4XrwL"
      }
    },
    {
      "cell_type": "markdown",
      "source": [
        "Randomized Search CV:"
      ],
      "metadata": {
        "id": "ODSxoVFSXwxB"
      }
    },
    {
      "cell_type": "code",
      "source": [
        "xgb_base = XGBClassifier(\n",
        "    objective='multi:softmax',\n",
        "    num_class=3,\n",
        "    tree_method='hist',\n",
        "    random_state=42,\n",
        "    use_label_encoder=False,\n",
        "    eval_metric='mlogloss'\n",
        ")\n",
        "\n",
        "param_dist = {\n",
        "    'n_estimators': np.arange(400, 700, 20),\n",
        "    'learning_rate': np.linspace(0.01, 0.05, 10),\n",
        "    'max_depth': np.arange(4, 12),\n",
        "    'min_child_weight': np.arange(1, 5),\n",
        "    'gamma': np.linspace(0, 1, 20),\n",
        "    'subsample': np.linspace(0.4, 1, 10),\n",
        "    'colsample_bytree': np.linspace(0.4, 1, 10),\n",
        "    'reg_alpha': np.linspace(0, 1, 20),\n",
        "    'reg_lambda': np.linspace(0.5, 3, 20),\n",
        "    'min_child_samples': np.arange(10, 30, 2),\n",
        "    'num_leaves': np.arange(50, 120, 5)\n",
        "}\n",
        "\n",
        "random_search = RandomizedSearchCV(\n",
        "    estimator=xgb_base,\n",
        "    param_distributions=param_dist,\n",
        "    n_iter=100,\n",
        "    scoring='accuracy',\n",
        "    cv=5,\n",
        "    verbose=2,\n",
        "    random_state=42,\n",
        "    n_jobs=-1\n",
        ")\n",
        "\n",
        "\n",
        "random_search.fit(df_train_processed_x, df_train_processed_y)\n",
        "\n",
        "print(\"Best Parameters:\", random_search.best_params_)\n",
        "\n",
        "xgb_model = XGBClassifier(\n",
        "    n_estimators=582,\n",
        "    learning_rate=0.035,\n",
        "    max_depth=9,\n",
        "    min_child_samples=26,\n",
        "    min_child_weight=2,\n",
        "    num_leaves=99,\n",
        "    gamma=0.5916,\n",
        "    reg_alpha=0.4493,\n",
        "    reg_lambda=2.0999,\n",
        "    subsample=0.4760,\n",
        "    colsample_bytree=0.55,\n",
        "    tree_method='hist',\n",
        "    grow_policy='depthwise',\n",
        "    random_state=42,\n",
        "    use_label_encoder=False,\n",
        "    eval_metric='mlogloss',\n",
        "    n_jobs=-1\n",
        ")\n",
        "\n",
        "xgb_model.fit(df_train_processed_x, df_train_processed_y)"
      ],
      "metadata": {
        "id": "NtRcPoLKTrnc"
      },
      "execution_count": null,
      "outputs": []
    },
    {
      "cell_type": "code",
      "source": [
        "# Best Hyperparameter\n",
        "\n",
        "# xgb_model = XGBClassifier(\n",
        "#     # Core Learning:\n",
        "#     n_estimators = 582,\n",
        "#     learning_rate = 0.035,\n",
        "#     max_depth = 9,\n",
        "#     min_child_samples = 26,\n",
        "#     min_child_weight=2,\n",
        "#     num_leaves = 99,\n",
        "\n",
        "#     # Regularization:\n",
        "#     gamma = 0.5915864928857023,\n",
        "#     reg_alpha = 0.44930608551240997,\n",
        "#     reg_lambda = 2.099943285494622,\n",
        "\n",
        "#     # Sampling:\n",
        "#     subsample = 0.4760427193925438,\n",
        "#     colsample_bytree = 0.55,\n",
        "\n",
        "#     # Tree Method:\n",
        "#     tree_method='hist',\n",
        "#     grow_policy='depthwise',\n",
        "\n",
        "#     # Other stable params:\n",
        "#     random_state=42,\n",
        "#     use_label_encoder=False,\n",
        "#     eval_metric='mlogloss',\n",
        "#     n_jobs=-1\n",
        "# )\n",
        "\n",
        "# # Fit and evaluate\n",
        "# xgb_model.fit(df_train_processed_x, df_train_processed_y)\n"
      ],
      "metadata": {
        "id": "PVW63TwzKtS3"
      },
      "execution_count": null,
      "outputs": []
    },
    {
      "cell_type": "markdown",
      "source": [
        "# **6. Prediction:**"
      ],
      "metadata": {
        "id": "dk5jc2JeaYSv"
      }
    },
    {
      "cell_type": "code",
      "source": [
        "y_test_pred = xgb_model.predict(df_test_processed_x)\n",
        "\n",
        "df_test_pred_y = pd.DataFrame({'WeightCategory': y_test_pred})"
      ],
      "metadata": {
        "id": "NbfmM1wlfosJ"
      },
      "execution_count": null,
      "outputs": []
    },
    {
      "cell_type": "code",
      "source": [
        "accuracy = accuracy_score(df_test_processed_y, df_test_pred_y)\n",
        "print(\"Accuracy:\", accuracy)"
      ],
      "metadata": {
        "id": "mxiHZz_Hk2t3"
      },
      "execution_count": null,
      "outputs": []
    },
    {
      "cell_type": "code",
      "source": [
        "from sklearn.metrics import confusion_matrix, ConfusionMatrixDisplay\n",
        "import matplotlib.pyplot as plt\n",
        "import pandas as pd\n",
        "import numpy as np\n",
        "from sklearn.preprocessing import LabelEncoder\n",
        "\n",
        "y_true_numerical = df_test_processed_y['WeightCategory'].values.ravel()\n",
        "\n",
        "y_pred_numerical = df_test_pred_y['WeightCategory'].values.ravel()\n",
        "\n",
        "all_unique_codes = np.unique(np.concatenate([y_true_numerical, y_pred_numerical]))\n",
        "\n",
        "class_names = [\n",
        "    '0 - Insufficient_Weight',\n",
        "    '1 - Normal_Weight',\n",
        "    '2 - Obesity_Type_I',\n",
        "    '3 - Obesity_Type_II',\n",
        "    '4 - Obesity_Type_III',\n",
        "    '5 - Overweight_Level_I',\n",
        "    '6 - Overweight_Level_II'\n",
        "]\n",
        "\n",
        "cm = confusion_matrix(y_true_numerical, y_pred_numerical)\n",
        "\n",
        "disp = ConfusionMatrixDisplay(\n",
        "    confusion_matrix=cm,\n",
        "\n",
        "    display_labels=class_names\n",
        ")\n",
        "\n",
        "fig, ax = plt.subplots(figsize=(5, 5))\n",
        "disp.plot(\n",
        "    cmap=plt.cm.Blues,\n",
        "    ax=ax,\n",
        "    values_format='d',\n",
        "    xticks_rotation='vertical'\n",
        ")\n",
        "\n",
        "plt.title(\"Confusion Matrix with Weight Categories\")\n",
        "plt.show()"
      ],
      "metadata": {
        "id": "0lmCLB7he2RP"
      },
      "execution_count": null,
      "outputs": []
    },
    {
      "cell_type": "code",
      "source": [
        "y_pred = xgb_model.predict(df_pred_processed_x)\n",
        "y_pred_labels = le.inverse_transform(y_pred)\n",
        "\n",
        "df_pred_y = pd.DataFrame({'id': df_pred['id'], 'WeightCategory': y_pred_labels})"
      ],
      "metadata": {
        "id": "zYW3e7wL2DKL"
      },
      "execution_count": null,
      "outputs": []
    },
    {
      "cell_type": "code",
      "source": [
        "df_pred_y.head(5)"
      ],
      "metadata": {
        "id": "Fn68-BbJ2ret"
      },
      "execution_count": null,
      "outputs": []
    },
    {
      "cell_type": "code",
      "source": [
        "# For downloading Output file\n",
        "\n",
        "# df_pred_y.to_csv('Output_Data.csv', index=False)\n",
        "# from google.colab import files\n",
        "# files.download('Output_Data.csv')"
      ],
      "metadata": {
        "id": "CB224OC3ftZN"
      },
      "execution_count": null,
      "outputs": []
    }
  ]
}